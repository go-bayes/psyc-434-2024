{
  "cells": [
    {
      "cell_type": "raw",
      "metadata": {},
      "source": [
        "---\n",
        "title: \"How to ask a Why Question\"\n",
        "subtitle: \"And why to ask a why question\"\n",
        "format:\n",
        "  revealjs: \n",
        "    slide-number: true\n",
        "    smaller: false\n",
        "    scrollable: true\n",
        "    chalkboard: \n",
        "      buttons: false\n",
        "    preview-links: auto\n",
        "    theme: moon\n",
        "    css: styles.css\n",
        "    embed-resources: false\n",
        "\n",
        "---"
      ],
      "id": "69c8f0c9"
    },
    {
      "cell_type": "markdown",
      "metadata": {},
      "source": [
        "# Why questions\n",
        "\n",
        "\n",
        "- First slide\n",
        "\n",
        "# Test\n",
        "\n",
        "\n",
        "```{latex}\n",
        "E[E[Y|A]]\\]\n",
        "```"
      ],
      "id": "c92fadd7"
    }
  ],
  "metadata": {
    "kernelspec": {
      "display_name": "Python 3",
      "language": "python",
      "name": "python3"
    }
  },
  "nbformat": 4,
  "nbformat_minor": 5
}